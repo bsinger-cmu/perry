{
 "cells": [
  {
   "cell_type": "code",
   "execution_count": 7,
   "metadata": {},
   "outputs": [],
   "source": [
    "%config InlineBackend.figure_formats = ['svg']\n",
    "import sys\n",
    "sys.path.insert(1, '../')\n",
    "\n",
    "import matplotlib.pyplot as plt\n",
    "from os import path\n",
    "\n",
    "from deployment_instance import ExperimentResult\n",
    "from src.ingest_data import ingest_experiment_results\n",
    "from src.query_data import get_exfiltration_time_df, get_data_exfiltration_times\n",
    "from statistics import mean\n",
    "import seaborn as sns\n",
    "# set seaborn font size\n",
    "sns.set_theme(font_scale=1.5)\n",
    "sns.set_style(\"whitegrid\", {'axes.grid' : False})\n",
    "\n",
    "import pandas as pd"
   ]
  },
  {
   "cell_type": "code",
   "execution_count": 8,
   "metadata": {},
   "outputs": [],
   "source": [
    "# Non persistent\n",
    "dfs_reactiveLayered_d10_h50 = ingest_experiment_results(path.join('data/Reactive/EquifaxLarge/dfs_reactiveLayered_d10_h50'))\n",
    "bfs_reactiveLayered_d10_h50 = ingest_experiment_results(path.join('data/Reactive/EquifaxLarge/bfs_reactiveLayered_d10_h50'))\n",
    "\n",
    "# Persistent\n",
    "dfs_reactiveLayered_d10_h50_persistent = ingest_experiment_results(path.join('data/Reactive/EquifaxLarge/persistentDFS_reactiveLayered_d10_h50'))\n",
    "bfs_reactiveLayered_d10_h50_persistent = ingest_experiment_results(path.join('data/Reactive/EquifaxLarge/persistentBFS_reactiveLayered_d10_h50'))\n",
    "\n",
    "all_data = {}\n",
    "all_data.update(dfs_reactiveLayered_d10_h50)\n",
    "all_data.update(dfs_reactiveLayered_d10_h50_persistent)\n",
    "all_data.update(bfs_reactiveLayered_d10_h50)\n",
    "all_data.update(bfs_reactiveLayered_d10_h50_persistent)"
   ]
  },
  {
   "cell_type": "code",
   "execution_count": 11,
   "metadata": {},
   "outputs": [],
   "source": [
    "all_data_times = get_exfiltration_time_df(all_data, 48)\n",
    "\n",
    "dfs_reactiveLayered_d10_h50_persistent_times = get_data_exfiltration_times(dfs_reactiveLayered_d10_h50_persistent, expected_files=48)"
   ]
  },
  {
   "cell_type": "code",
   "execution_count": 12,
   "metadata": {},
   "outputs": [
    {
     "data": {
      "text/html": [
       "<div>\n",
       "<style scoped>\n",
       "    .dataframe tbody tr th:only-of-type {\n",
       "        vertical-align: middle;\n",
       "    }\n",
       "\n",
       "    .dataframe tbody tr th {\n",
       "        vertical-align: top;\n",
       "    }\n",
       "\n",
       "    .dataframe thead tr th {\n",
       "        text-align: left;\n",
       "    }\n",
       "\n",
       "    .dataframe thead tr:last-of-type th {\n",
       "        text-align: right;\n",
       "    }\n",
       "</style>\n",
       "<table border=\"1\" class=\"dataframe\">\n",
       "  <thead>\n",
       "    <tr>\n",
       "      <th></th>\n",
       "      <th colspan=\"2\" halign=\"left\">time_per_file</th>\n",
       "      <th colspan=\"2\" halign=\"left\">percent_files_exfiltrated</th>\n",
       "    </tr>\n",
       "    <tr>\n",
       "      <th></th>\n",
       "      <th>mean</th>\n",
       "      <th>std</th>\n",
       "      <th>mean</th>\n",
       "      <th>std</th>\n",
       "    </tr>\n",
       "    <tr>\n",
       "      <th>experiment</th>\n",
       "      <th></th>\n",
       "      <th></th>\n",
       "      <th></th>\n",
       "      <th></th>\n",
       "    </tr>\n",
       "  </thead>\n",
       "  <tbody>\n",
       "    <tr>\n",
       "      <th>bfs_reactiveLayered_d10_h50</th>\n",
       "      <td>0.850974</td>\n",
       "      <td>1.361394</td>\n",
       "      <td>7.083333</td>\n",
       "      <td>13.629523</td>\n",
       "    </tr>\n",
       "    <tr>\n",
       "      <th>dfs_reactiveLayered_d10_h50</th>\n",
       "      <td>0.469171</td>\n",
       "      <td>1.049098</td>\n",
       "      <td>1.666667</td>\n",
       "      <td>3.726780</td>\n",
       "    </tr>\n",
       "    <tr>\n",
       "      <th>persistentBFS_reactiveLayered_d10_h50</th>\n",
       "      <td>0.000000</td>\n",
       "      <td>0.000000</td>\n",
       "      <td>0.000000</td>\n",
       "      <td>0.000000</td>\n",
       "    </tr>\n",
       "    <tr>\n",
       "      <th>persistentDFS_reactiveLayered_d10_h50</th>\n",
       "      <td>1.180528</td>\n",
       "      <td>0.636818</td>\n",
       "      <td>78.333333</td>\n",
       "      <td>41.471766</td>\n",
       "    </tr>\n",
       "  </tbody>\n",
       "</table>\n",
       "</div>"
      ],
      "text/plain": [
       "                                      time_per_file            \\\n",
       "                                               mean       std   \n",
       "experiment                                                      \n",
       "bfs_reactiveLayered_d10_h50                0.850974  1.361394   \n",
       "dfs_reactiveLayered_d10_h50                0.469171  1.049098   \n",
       "persistentBFS_reactiveLayered_d10_h50      0.000000  0.000000   \n",
       "persistentDFS_reactiveLayered_d10_h50      1.180528  0.636818   \n",
       "\n",
       "                                      percent_files_exfiltrated             \n",
       "                                                           mean        std  \n",
       "experiment                                                                  \n",
       "bfs_reactiveLayered_d10_h50                            7.083333  13.629523  \n",
       "dfs_reactiveLayered_d10_h50                            1.666667   3.726780  \n",
       "persistentBFS_reactiveLayered_d10_h50                  0.000000   0.000000  \n",
       "persistentDFS_reactiveLayered_d10_h50                 78.333333  41.471766  "
      ]
     },
     "execution_count": 12,
     "metadata": {},
     "output_type": "execute_result"
    }
   ],
   "source": [
    "# average files exfiltrated\n",
    "all_data_times.groupby('experiment').agg({'time_per_file': ['mean', 'std'], 'percent_files_exfiltrated': ['mean', 'std']})"
   ]
  }
 ],
 "metadata": {
  "kernelspec": {
   "display_name": "jupyter",
   "language": "python",
   "name": "python3"
  },
  "language_info": {
   "codemirror_mode": {
    "name": "ipython",
    "version": 3
   },
   "file_extension": ".py",
   "mimetype": "text/x-python",
   "name": "python",
   "nbconvert_exporter": "python",
   "pygments_lexer": "ipython3",
   "version": "3.10.14"
  },
  "orig_nbformat": 4
 },
 "nbformat": 4,
 "nbformat_minor": 2
}

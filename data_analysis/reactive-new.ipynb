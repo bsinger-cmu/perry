{
 "cells": [
  {
   "cell_type": "code",
   "execution_count": 0,
   "metadata": {},
   "outputs": [],
   "source": [
    "%config InlineBackend.figure_formats = ['svg']\n",
    "import sys\n",
    "sys.path.insert(1, '../')\n",
    "\n",
    "import matplotlib.pyplot as plt\n",
    "from os import path\n",
    "\n",
    "from deployment_instance.Result import ExperimentResult\n",
    "from src.ingest_data import ingest_experiment_results\n",
    "from src.query_data import get_exfiltration_time_df, get_data_exfiltration_cdf, total_control_host_capture_times\n",
    "from statistics import mean\n",
    "import seaborn as sns\n",
    "# set seaborn font size\n",
    "sns.set_theme(font_scale=1.5)\n",
    "sns.set_style(\"whitegrid\", {'axes.grid' : False})\n",
    "sns.color_palette(\"pastel\")\n",
    "\n",
    "import pandas as pd"
   ]
  },
  {
   "cell_type": "code",
   "execution_count": 6,
   "metadata": {},
   "outputs": [],
   "source": [
    "# Equifax \n",
    "equifax_reactiveSimple_d10_h0 = ingest_experiment_results(path.join('data/EquifaxLarge/reactive/equifax/equifax_reactiveSimple'))\n",
    "equifax_advancedReactive_d10_h0 = ingest_experiment_results(path.join('data/EquifaxLarge/reactive/equifax/baseline_reactiveStandalone_d10_h0'))\n",
    "equifax_advancedReactive_d0_h50 = ingest_experiment_results(path.join('data/EquifaxLarge/reactive/equifax/baseline_reactiveStandalone_d0_h50'))\n",
    "equifax_advancedReactive_d10_h50 = ingest_experiment_results(path.join('data/EquifaxLarge/reactive/equifax/baseline_reactiveStandalone_d10_h50'))\n",
    "equifax_advancedReactive_layered_d10_h50 = ingest_experiment_results(path.join('data/EquifaxLarge/reactive/equifax/baseline_reactiveLayered_d10_h50'))\n"
   ]
  },
  {
   "cell_type": "code",
   "execution_count": 2,
   "metadata": {},
   "outputs": [
    {
     "ename": "FileNotFoundError",
     "evalue": "[Errno 2] No such file or directory: 'data/EquifaxLarge/reactive/equifax/baseline_reactiveSimple_d10_h0'",
     "output_type": "error",
     "traceback": [
      "\u001b[0;31m---------------------------------------------------------------------------\u001b[0m",
      "\u001b[0;31mFileNotFoundError\u001b[0m                         Traceback (most recent call last)",
      "Cell \u001b[0;32mIn[2], line 1\u001b[0m\n\u001b[0;32m----> 1\u001b[0m equifax_reactiveSimple_d10_h0 \u001b[38;5;241m=\u001b[39m \u001b[43mingest_experiment_results\u001b[49m\u001b[43m(\u001b[49m\u001b[43mpath\u001b[49m\u001b[38;5;241;43m.\u001b[39;49m\u001b[43mjoin\u001b[49m\u001b[43m(\u001b[49m\u001b[38;5;124;43m'\u001b[39;49m\u001b[38;5;124;43mdata/EquifaxLarge/reactive/equifax/baseline_reactiveSimple_d10_h0\u001b[39;49m\u001b[38;5;124;43m'\u001b[39;49m\u001b[43m)\u001b[49m\u001b[43m)\u001b[49m\n\u001b[1;32m      2\u001b[0m equifax_advancedReactive_d10_h0_times \u001b[38;5;241m=\u001b[39m get_exfiltration_time_df(equifax_advancedReactive_d10_h0, \u001b[38;5;241m48\u001b[39m, \u001b[38;5;124m'\u001b[39m\u001b[38;5;124mtargeted_advancedReactive_d10_h0\u001b[39m\u001b[38;5;124m'\u001b[39m)\n\u001b[1;32m      3\u001b[0m equifax_advancedReactive_d0_h50_times \u001b[38;5;241m=\u001b[39m get_exfiltration_time_df(equifax_advancedReactive_d0_h50, \u001b[38;5;241m48\u001b[39m, \u001b[38;5;124m'\u001b[39m\u001b[38;5;124mtargeted_advancedReactive_d0_h50\u001b[39m\u001b[38;5;124m'\u001b[39m)\n",
      "File \u001b[0;32m~/Perry/data_analysis/src/ingest_data.py:61\u001b[0m, in \u001b[0;36mingest_experiment_results\u001b[0;34m(dir_path)\u001b[0m\n\u001b[1;32m     60\u001b[0m \u001b[38;5;28;01mdef\u001b[39;00m \u001b[38;5;21mingest_experiment_results\u001b[39m(dir_path):\n\u001b[0;32m---> 61\u001b[0m     subdirectories \u001b[38;5;241m=\u001b[39m \u001b[43mos\u001b[49m\u001b[38;5;241;43m.\u001b[39;49m\u001b[43mlistdir\u001b[49m\u001b[43m(\u001b[49m\u001b[43mdir_path\u001b[49m\u001b[43m)\u001b[49m\n\u001b[1;32m     62\u001b[0m     experiment_results: \u001b[38;5;28mdict\u001b[39m[\u001b[38;5;28mstr\u001b[39m, ExperimentResult] \u001b[38;5;241m=\u001b[39m {}\n\u001b[1;32m     63\u001b[0m     \u001b[38;5;66;03m# experiment_results: dict[ExperimentResult] = []\u001b[39;00m\n",
      "\u001b[0;31mFileNotFoundError\u001b[0m: [Errno 2] No such file or directory: 'data/EquifaxLarge/reactive/equifax/baseline_reactiveSimple_d10_h0'"
     ]
    }
   ],
   "source": [
    "equifax_reactiveSimple_d10_h0_times = get_exfiltration_time_df(equifax_reactiveSimple_d10_h0, 48, 'targeted_reactiveSimple_d10_h0')\n",
    "equifax_advancedReactive_d10_h0_times = get_exfiltration_time_df(equifax_advancedReactive_d10_h0, 48, 'targeted_advancedReactive_d10_h0')\n",
    "equifax_advancedReactive_d0_h50_times = get_exfiltration_time_df(equifax_advancedReactive_d0_h50, 48, 'targeted_advancedReactive_d0_h50')\n",
    "equifax_advancedReactive_d10_h50_times = get_exfiltration_time_df(equifax_advancedReactive_d10_h50, 48, 'targeted_advancedReactive_d10_h50')\n",
    "equifax_advancedReactive_layered_d10_h50_times = get_exfiltration_time_df(equifax_advancedReactive_layered_d10_h50, 48, 'targeted_advancedReactive_d10_h50')\n",
    "\n",
    "# Merge dfs into 1 df\n",
    "equifax_data = pd.concat([equifax_reactiveSimple_d10_h0_times,\n",
    "                          equifax_advancedReactive_d10_h0_times, \n",
    "                          equifax_advancedReactive_d0_h50_times, \n",
    "                          equifax_advancedReactive_d10_h50_times,\n",
    "                          equifax_advancedReactive_layered_d10_h50_times])"
   ]
  },
  {
   "cell_type": "code",
   "execution_count": 3,
   "metadata": {},
   "outputs": [
    {
     "ename": "NameError",
     "evalue": "name 'equifax_data' is not defined",
     "output_type": "error",
     "traceback": [
      "\u001b[0;31m---------------------------------------------------------------------------\u001b[0m",
      "\u001b[0;31mNameError\u001b[0m                                 Traceback (most recent call last)",
      "Cell \u001b[0;32mIn[3], line 2\u001b[0m\n\u001b[1;32m      1\u001b[0m equifax_data_agg \u001b[38;5;241m=\u001b[39m (\n\u001b[0;32m----> 2\u001b[0m     \u001b[43mequifax_data\u001b[49m\u001b[38;5;241m.\u001b[39mgroupby(\u001b[38;5;124m'\u001b[39m\u001b[38;5;124mexperiment\u001b[39m\u001b[38;5;124m'\u001b[39m)\n\u001b[1;32m      3\u001b[0m     \u001b[38;5;241m.\u001b[39magg({\u001b[38;5;124m'\u001b[39m\u001b[38;5;124mpercent_files_exfiltrated\u001b[39m\u001b[38;5;124m'\u001b[39m: {\u001b[38;5;124m'\u001b[39m\u001b[38;5;124mmean\u001b[39m\u001b[38;5;124m'\u001b[39m}, \u001b[38;5;124m'\u001b[39m\u001b[38;5;124mtime_exfiltrated\u001b[39m\u001b[38;5;124m'\u001b[39m: \u001b[38;5;124m'\u001b[39m\u001b[38;5;124mmedian\u001b[39m\u001b[38;5;124m'\u001b[39m, \u001b[38;5;124m'\u001b[39m\u001b[38;5;124mdefender\u001b[39m\u001b[38;5;124m'\u001b[39m: \u001b[38;5;124m'\u001b[39m\u001b[38;5;124mfirst\u001b[39m\u001b[38;5;124m'\u001b[39m, \u001b[38;5;124m'\u001b[39m\u001b[38;5;124mattacker\u001b[39m\u001b[38;5;124m'\u001b[39m: \u001b[38;5;124m'\u001b[39m\u001b[38;5;124mfirst\u001b[39m\u001b[38;5;124m'\u001b[39m})\n\u001b[1;32m      4\u001b[0m     \u001b[38;5;241m.\u001b[39mreset_index()\n\u001b[1;32m      5\u001b[0m )\n\u001b[1;32m      6\u001b[0m equifax_data_agg\n",
      "\u001b[0;31mNameError\u001b[0m: name 'equifax_data' is not defined"
     ]
    }
   ],
   "source": [
    "equifax_data_agg = (\n",
    "    equifax_data.groupby('experiment')\n",
    "    .agg({'percent_files_exfiltrated': {'mean'}, 'time_exfiltrated': 'median', 'defender': 'first', 'attacker': 'first'})\n",
    "    .reset_index()\n",
    ")\n",
    "equifax_data_agg"
   ]
  },
  {
   "cell_type": "code",
   "execution_count": 4,
   "metadata": {},
   "outputs": [
    {
     "ename": "NameError",
     "evalue": "name 'equifax_data' is not defined",
     "output_type": "error",
     "traceback": [
      "\u001b[0;31m---------------------------------------------------------------------------\u001b[0m",
      "\u001b[0;31mNameError\u001b[0m                                 Traceback (most recent call last)",
      "Cell \u001b[0;32mIn[4], line 3\u001b[0m\n\u001b[1;32m      1\u001b[0m \u001b[38;5;66;03m# Box plot\u001b[39;00m\n\u001b[1;32m      2\u001b[0m plt\u001b[38;5;241m.\u001b[39mfigure(figsize\u001b[38;5;241m=\u001b[39m(\u001b[38;5;241m10\u001b[39m, \u001b[38;5;241m6\u001b[39m))\n\u001b[0;32m----> 3\u001b[0m sns\u001b[38;5;241m.\u001b[39mboxplot(data\u001b[38;5;241m=\u001b[39m\u001b[43mequifax_data\u001b[49m, x\u001b[38;5;241m=\u001b[39m\u001b[38;5;124m'\u001b[39m\u001b[38;5;124mexperiment\u001b[39m\u001b[38;5;124m'\u001b[39m, y\u001b[38;5;241m=\u001b[39m\u001b[38;5;124m'\u001b[39m\u001b[38;5;124mpercent_files_exfiltrated\u001b[39m\u001b[38;5;124m'\u001b[39m,\n\u001b[1;32m      4\u001b[0m             hue\u001b[38;5;241m=\u001b[39m\u001b[38;5;124m'\u001b[39m\u001b[38;5;124mexperiment\u001b[39m\u001b[38;5;124m'\u001b[39m, palette\u001b[38;5;241m=\u001b[39m\u001b[38;5;124m'\u001b[39m\u001b[38;5;124mpastel\u001b[39m\u001b[38;5;124m'\u001b[39m, showfliers\u001b[38;5;241m=\u001b[39m\u001b[38;5;28;01mFalse\u001b[39;00m)\n",
      "\u001b[0;31mNameError\u001b[0m: name 'equifax_data' is not defined"
     ]
    },
    {
     "data": {
      "text/plain": [
       "<Figure size 1000x600 with 0 Axes>"
      ]
     },
     "metadata": {},
     "output_type": "display_data"
    }
   ],
   "source": [
    "# Box plot\n",
    "plt.figure(figsize=(10, 6))\n",
    "sns.boxplot(data=equifax_data, x='experiment', y='percent_files_exfiltrated',\n",
    "            hue='experiment', palette='pastel', showfliers=False)"
   ]
  },
  {
   "cell_type": "code",
   "execution_count": null,
   "metadata": {},
   "outputs": [],
   "source": []
  }
 ],
 "metadata": {
  "kernelspec": {
   "display_name": "jupyter",
   "language": "python",
   "name": "python3"
  },
  "language_info": {
   "codemirror_mode": {
    "name": "ipython",
    "version": 3
   },
   "file_extension": ".py",
   "mimetype": "text/x-python",
   "name": "python",
   "nbconvert_exporter": "python",
   "pygments_lexer": "ipython3",
   "version": "3.10.12"
  },
  "orig_nbformat": 4
 },
 "nbformat": 4,
 "nbformat_minor": 2
}
